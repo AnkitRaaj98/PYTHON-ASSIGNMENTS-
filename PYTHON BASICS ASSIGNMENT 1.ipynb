{
 "cells": [
  {
   "cell_type": "markdown",
   "id": "f9a9848d",
   "metadata": {},
   "source": [
    "1. In the below elements which of them are values or an expression? eg:- values can be\n",
    "integer or string and expressions will be mathematical operators.\n",
    "*\n",
    "&#39;hello&#39;\n",
    "-87.8\n",
    "-\n",
    "/\n",
    "+\n",
    "6\n",
    "\n",
    "2. What is the difference between string and variable?\n",
    "\n",
    "3. Describe three different data types.\n",
    "\n",
    "4. What is an expression made up of? What do all expressions do?\n",
    "5. This assignment statements, like spam = 10. What is the difference between an\n",
    "expression and a statement?\n",
    "6. After running the following code, what does the variable bacon contain?\n",
    "bacon = 22\n",
    "bacon + 1\n",
    "\n",
    "7. What should the values of the following two terms be?\n",
    "&#39;spam&#39; + &#39;spamspam&#39;\n",
    "&#39;spam&#39; * 3\n",
    "\n",
    "8. Why is eggs a valid variable name while 100 is invalid?\n",
    "\n",
    "9. What three functions can be used to get the integer, floating-point number, or string\n",
    "version of a value?\n",
    "10. Why does this expression cause an error? How can you fix it?\n",
    "&#39;I have eaten &#39; + 99 + &#39; burritos.&#39;"
   ]
  },
  {
   "cell_type": "markdown",
   "id": "4707fb1e",
   "metadata": {},
   "source": [
    "1.In the below elements which of them are values or an expression? eg:- values can be integer or string and expressions will be mathematical operators.\n",
    "\n",
    "* = mathematical operator (for multiply)\n",
    "\n",
    "'hello'= string \n",
    "\n",
    "-87.8 = float\n",
    "\n",
    "- = mathematical operator (for minus)\n",
    "\n",
    "/ = mathematical operator (for divide)\n",
    "\n",
    "+ = mathematical operator (for plus)\n",
    "\n",
    "6 = integer"
   ]
  },
  {
   "cell_type": "markdown",
   "id": "8c4ecb94",
   "metadata": {},
   "source": [
    "2.What is the difference between string and variable?\n",
    "\n",
    "Ans. Variables are symbols that can use to store data in a program.We can think of them as an empty box that we fioll with some      data or value.\n",
    "     Strings are data, so we can use them fill up a variable."
   ]
  },
  {
   "cell_type": "markdown",
   "id": "e4a72e34",
   "metadata": {},
   "source": [
    "3.Describe three different data types.\n",
    "\n",
    "Ans. Data Types \tExamples\t        Explanation\n",
    "\n",
    "     Strings\t    \"Hello!\", \"23.34\"\tText - anything between \" \" becomes string\n",
    "     \n",
    "     Integers\t    5364\t            Whole numbers\n",
    "\n",
    "     Booleans\t    True, False\t        Truth values that represent Yes/No"
   ]
  },
  {
   "cell_type": "markdown",
   "id": "460ccc14",
   "metadata": {},
   "source": [
    "4.What is an expression made up of? What do all expressions do?\n",
    "\n",
    "Ans.A combination of operands and operators is called an expression. The expression in Python produces some value or result after being interpreted by the Python interpreter. An expression in Python is a combination of operators and operands."
   ]
  },
  {
   "cell_type": "markdown",
   "id": "4904f778",
   "metadata": {},
   "source": [
    "5.This assignment statements, like spam = 10. What is the difference between an expression and a statement?\n",
    "\n",
    "Ans. An expression evaluates to a single value. A statement does not."
   ]
  },
  {
   "cell_type": "markdown",
   "id": "fffde333",
   "metadata": {},
   "source": [
    "6.After running the following code, what does the variable bacon contain? bacon = 22 bacon + 1\n",
    "\n",
    "Ans. The bacon variable is set to 22. The bacon + 1 expression does not reassign the value in bacon (that would need an assignment statement: bacon = bacon + 1)."
   ]
  },
  {
   "cell_type": "markdown",
   "id": "2b418ce2",
   "metadata": {},
   "source": [
    "7.What should the values of the following two terms be? 'spam' + 'spamspam' 'spam' * 3"
   ]
  },
  {
   "cell_type": "code",
   "execution_count": 1,
   "id": "c1646bb6",
   "metadata": {},
   "outputs": [
    {
     "data": {
      "text/plain": [
       "'spamspamspamspamspamspamspamspamspamspam'"
      ]
     },
     "execution_count": 1,
     "metadata": {},
     "output_type": "execute_result"
    }
   ],
   "source": [
    "'spam' + 'spamspam' 'spam' * 3"
   ]
  },
  {
   "cell_type": "markdown",
   "id": "179befc7",
   "metadata": {},
   "source": [
    "8.Why is eggs a valid variable name while 100 is invalid?\n",
    "\n",
    " Ans. Because variable names cannot begin with a number."
   ]
  },
  {
   "cell_type": "markdown",
   "id": "a4d72feb",
   "metadata": {},
   "source": [
    "9.What three functions can be used to get the integer, floating-point number, or string version of a value?\n",
    "\n",
    "Ans.The int() , float() , and str( ) functions will evaluate to the integer, floating-point number, and string versions of the value passed to them."
   ]
  },
  {
   "cell_type": "markdown",
   "id": "e006f399",
   "metadata": {},
   "source": [
    "10.Why does this expression cause an error? How can you fix it? 'I have eaten ' + 99 + ' burritos'.\n",
    "\n",
    "Ans.This expression cause an error because 99 is in integer form and 'I have eaten' ,'burritos' is in string form.\n",
    "    We can fix this after converting 99 from integer to string. "
   ]
  }
 ],
 "metadata": {
  "kernelspec": {
   "display_name": "Python 3 (ipykernel)",
   "language": "python",
   "name": "python3"
  },
  "language_info": {
   "codemirror_mode": {
    "name": "ipython",
    "version": 3
   },
   "file_extension": ".py",
   "mimetype": "text/x-python",
   "name": "python",
   "nbconvert_exporter": "python",
   "pygments_lexer": "ipython3",
   "version": "3.9.12"
  }
 },
 "nbformat": 4,
 "nbformat_minor": 5
}
