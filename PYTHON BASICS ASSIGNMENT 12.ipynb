{
 "cells": [
  {
   "cell_type": "code",
   "execution_count": null,
   "id": "f5571abb-bf45-4bdf-a0dc-f1bc715715c5",
   "metadata": {},
   "outputs": [],
   "source": [
    "1. In what modes should the PdfFileReader() and PdfFileWriter() File objects will be opened?\n",
    "2. From a PdfFileReader object, how do you get a Page object for page 5?\n",
    "3. What PdfFileReader variable stores the number of pages in the PDF document?\n",
    "4. If a PdfFileReader object’s PDF is encrypted with the password swordfish, what must you do\n",
    "before you can obtain Page objects from it?\n",
    "5. What methods do you use to rotate a page?\n",
    "6. What is the difference between a Run object and a Paragraph object?\n",
    "7. How do you obtain a list of Paragraph objects for a Document object that’s stored in a variable\n",
    "named doc?\n",
    "8. What type of object has bold, underline, italic, strike, and outline variables?\n",
    "9. What is the difference between False, True, and None for the bold variable?\n",
    "10. How do you create a Document object for a new Word document?\n",
    "11. How do you add a paragraph with the text 'Hello, there!' to a Document object stored in a\n",
    "variable named doc?\n",
    "12. What integers represent the levels of headings available in Word documents?"
   ]
  },
  {
   "cell_type": "markdown",
   "id": "23d6b0c6-c411-4a28-b402-646570c586ad",
   "metadata": {},
   "source": [
    "1. In what modes should the PdfFileReader() and PdfFileWriter() File objects will be opened?"
   ]
  },
  {
   "cell_type": "markdown",
   "id": "77306b01-a98c-4b44-8224-ca7352f7bee4",
   "metadata": {},
   "source": [
    "Ans:\n",
    "PdfFileReader():\n",
    "This class is used for reading an existing PDF file and extracting information from it, such as the number of pages or the text content. You create a PdfFileReader object by passing the path of the PDF file or a file-like object in read-binary mode ('rb').\n",
    "\n",
    "The PdfFileWriter() class is used for creating a new PDF file or modifying an existing one. You create a PdfFileWriter object without any arguments. When writing the modified PDF back to a file, you pass a file-like object in write-binary mode ('wb') to the write() method."
   ]
  },
  {
   "cell_type": "markdown",
   "id": "f0f78c2e-9076-478e-910b-af9fb55c8acb",
   "metadata": {},
   "source": [
    "2. From a PdfFileReader object, how do you get a Page object for page 5?"
   ]
  },
  {
   "cell_type": "markdown",
   "id": "61bb366e-0757-41e0-b890-96dc2024affe",
   "metadata": {},
   "source": [
    "Ans:\n",
    "In Python using PyPDF2 library, you can get a Page object for page 5 from a PdfFileReader object using the getPage() method. The indexing of pages starts from 0, so to get page 5 (assuming 0-indexing), you would use index 4."
   ]
  },
  {
   "cell_type": "code",
   "execution_count": null,
   "id": "17786e04-28ee-457f-890c-0ecefd4f541b",
   "metadata": {},
   "outputs": [],
   "source": [
    "from PyPDF2 import PdfFileReader\n",
    "\n",
    "pdf_path = 'example.pdf'\n",
    "pdf_reader = PdfFileReader(pdf_path)\n",
    "\n",
    "# Get Page object for page 5 (index 4)\n",
    "page_number = 4  # Zero-based index for page 5\n",
    "page_object = pdf_reader.getPage(page_number)\n"
   ]
  },
  {
   "cell_type": "markdown",
   "id": "50afa406-6589-40eb-af52-034b6adf07c5",
   "metadata": {},
   "source": [
    "3. What PdfFileReader variable stores the number of pages in the PDF document?"
   ]
  },
  {
   "cell_type": "markdown",
   "id": "5dd7489c-b5b8-4da9-a576-b5f22047e27f",
   "metadata": {},
   "source": [
    "Ans:\n",
    "In the PyPDF2 library, the PdfFileReader class has a property called numPages that stores the number of pages in the PDF document. This property provides the total count of pages in the PDF file."
   ]
  },
  {
   "cell_type": "code",
   "execution_count": null,
   "id": "a1f5a6ea-990b-4180-b194-a0f3e8dba2eb",
   "metadata": {},
   "outputs": [],
   "source": [
    "from PyPDF2 import PdfFileReader\n",
    "\n",
    "pdf_path = 'example.pdf'\n",
    "pdf_reader = PdfFileReader(pdf_path)\n",
    "\n",
    "# Get the number of pages in the PDF document\n",
    "num_pages = pdf_reader.numPages\n",
    "\n",
    "print(f'The PDF document has {num_pages} pages.')\n"
   ]
  },
  {
   "cell_type": "markdown",
   "id": "e1789d8a-bad8-4ea3-8ac3-bcbbc1406b92",
   "metadata": {},
   "source": [
    "4. If a PdfFileReader object’s PDF is encrypted with the password swordfish, what must you do\n",
    "before you can obtain Page objects from it?"
   ]
  },
  {
   "cell_type": "markdown",
   "id": "0d92ab8b-4bb7-407f-9c68-9cbdcfa2ce42",
   "metadata": {},
   "source": [
    "Ans:\n",
    "If a PdfFileReader object's PDF is encrypted with the password \"swordfish,\" you need to decrypt the PDF before you can obtain Page objects from it. This requires you to provide the correct password to the decrypt() method of the PdfFileReader object"
   ]
  },
  {
   "cell_type": "code",
   "execution_count": null,
   "id": "e7e5bae7-fb51-4dd8-8151-6be0bbe1e196",
   "metadata": {},
   "outputs": [],
   "source": [
    "from PyPDF2 import PdfFileReader\n",
    "\n",
    "pdf_path = 'encrypted.pdf'\n",
    "pdf_reader = PdfFileReader(pdf_path)\n"
   ]
  },
  {
   "cell_type": "markdown",
   "id": "85e60c27-11de-4c9d-9bf4-5eaf79bbc739",
   "metadata": {},
   "source": [
    "Call the decrypt() method on the PdfFileReader object, passing the correct password as a string."
   ]
  },
  {
   "cell_type": "code",
   "execution_count": null,
   "id": "905f9dcb-772c-4d39-b63d-a32c8607a369",
   "metadata": {},
   "outputs": [],
   "source": [
    "password = 'swordfish'\n",
    "pdf_reader.decrypt(password)\n"
   ]
  },
  {
   "cell_type": "markdown",
   "id": "67fe6c17-c855-40ea-bff9-8a2329681063",
   "metadata": {},
   "source": [
    "5. What methods do you use to rotate a page?"
   ]
  },
  {
   "cell_type": "markdown",
   "id": "75bbcdde-d190-4b64-9b2c-621d5065655a",
   "metadata": {},
   "source": [
    "Ans:\n",
    "To rotate a page in a PDF using the PyPDF2 library in Python, you can use the rotateClockwise() and rotateCounterClockwise() methods available for the Page object. "
   ]
  },
  {
   "cell_type": "code",
   "execution_count": null,
   "id": "f1f6710e-8593-4462-b938-7d7e5de397b6",
   "metadata": {},
   "outputs": [],
   "source": [
    "from PyPDF2 import PdfFileReader, PdfWriter\n",
    "\n",
    "pdf_path = 'example.pdf'\n",
    "pdf_reader = PdfFileReader(pdf_path)\n",
    "\n",
    "# Get the Page object for page 5 (index 4)\n",
    "page_number = 4  # Zero-based index for page 5\n",
    "page_object = pdf_reader.getPage(page_number)\n",
    "\n",
    "# Rotate the page clockwise by 90 degrees\n",
    "page_object.rotateClockwise(90)\n",
    "\n",
    "# Alternatively, rotate the page counterclockwise by 90 degrees\n",
    "# page_object.rotateCounterClockwise(90)"
   ]
  },
  {
   "cell_type": "markdown",
   "id": "ac27d856-766f-41de-89c8-5cc6cd8a391d",
   "metadata": {},
   "source": [
    "6. What is the difference between a Run object and a Paragraph object?"
   ]
  },
  {
   "cell_type": "markdown",
   "id": "020d818e-8ef8-45db-9aa5-1bc632d6f232",
   "metadata": {},
   "source": [
    "The concepts of \"Run object\" and \"Paragraph object\" are commonly associated with libraries that deal with text processing, like Python's python-docx library for working with Microsoft Word documents. Here's the difference between these two objects:\n",
    "\n",
    "Run object:\n",
    "A \"Run object\" refers to a continuous span of text within a paragraph that has the same formatting properties. It represents a contiguous sequence of characters within a paragraph that share the same font, size, color, boldness, italicization, etc. If you apply formatting changes to a portion of the text within a paragraph, you create a new run to represent that formatted portion.\n",
    "\n",
    "Paragraph object:\n",
    "A \"Paragraph object\" represents a single paragraph of text within a document. It contains one or more runs that make up the content of the paragraph. A paragraph can be as short as a single word or as long as multiple lines of text. Each paragraph has its own set of properties like alignment, indentation, spacing, etc."
   ]
  },
  {
   "cell_type": "markdown",
   "id": "98df8421-7e5d-4f1b-a590-d9eff29d6c07",
   "metadata": {},
   "source": [
    "7. How do you obtain a list of Paragraph objects for a Document object that’s stored in a variable\n",
    "named doc?"
   ]
  },
  {
   "cell_type": "markdown",
   "id": "a6af3e9f-1454-4b7a-ace2-8c3dfffa1b51",
   "metadata": {},
   "source": [
    "Ans:\n",
    "To obtain a list of Paragraph objects for a Document object stored in a variable named doc, you need to use the appropriate method provided by the library you are using to work with the document. Since you mentioned \"python-docx\" in your previous question, I'll assume you are referring to that library for working with Microsoft Word documents."
   ]
  },
  {
   "cell_type": "code",
   "execution_count": null,
   "id": "809120bc-0a24-4825-ad99-3ab195823ab7",
   "metadata": {},
   "outputs": [],
   "source": [
    "from docx import Document\n",
    "\n",
    "# Assuming you have a Document object named 'doc'\n",
    "# If you are loading a document from a file, you can do something like this:\n",
    "# doc = Document('your_document.docx')\n",
    "\n",
    "# Get a list of Paragraph objects\n",
    "paragraphs_list = doc.paragraphs\n",
    "\n",
    "# Now you can iterate through the list and perform operations on each paragraph\n",
    "for paragraph in paragraphs_list:\n",
    "    # Do something with each paragraph\n",
    "    print(paragraph.text)  # Print the text content of the paragraph\n"
   ]
  },
  {
   "cell_type": "markdown",
   "id": "69c214ef-da23-43bf-a16f-4705c1bba41b",
   "metadata": {},
   "source": [
    "8. What type of object has bold, underline, italic, strike, and outline variables?"
   ]
  },
  {
   "cell_type": "markdown",
   "id": "2783f1b2-70b2-4acd-9dfa-88b85750f4e7",
   "metadata": {},
   "source": [
    "Ans:\n",
    "In the context of Python's python-docx library for working with Microsoft Word documents, the type of object that has attributes like bold, underline, italic, strike, and outline is the Font object. The Font object is used to represent the formatting properties of text, and it contains various attributes that you can use to apply or check formatting settings for specific text in a Paragraph object."
   ]
  },
  {
   "cell_type": "code",
   "execution_count": null,
   "id": "5499099c-18b9-41a7-b2d2-4d169635015b",
   "metadata": {},
   "outputs": [],
   "source": [
    "from docx import Document\n",
    "\n",
    "# Load the Word document into a Document object\n",
    "doc = Document('example.docx')\n",
    "\n",
    "# Assume you want to access the first paragraph and the first run of text in that paragraph\n",
    "first_paragraph = doc.paragraphs[0]\n",
    "first_run = first_paragraph.runs[0]\n",
    "\n",
    "# Access the Font object associated with the first run of text\n",
    "font = first_run.font\n",
    "\n",
    "# Check if the text is bold\n",
    "if font.bold:\n",
    "    print(\"The text is bold.\")\n",
    "\n",
    "# Check if the text is underlined\n",
    "if font.underline:\n",
    "    print(\"The text is underlined.\")\n",
    "\n",
    "# Check if the text is italicized\n",
    "if font.italic:\n",
    "    print(\"The text is italicized.\")\n",
    "\n",
    "# Check if the text is struck through\n",
    "if font.strike:\n",
    "    print(\"The text is struck through.\")\n",
    "\n",
    "# Check if the text is outlined\n",
    "if font.outline:\n",
    "    print(\"The text is outlined.\")\n"
   ]
  },
  {
   "cell_type": "markdown",
   "id": "e72288af-f1ee-474c-bdd8-e4b35c071ba0",
   "metadata": {},
   "source": [
    "9. What is the difference between False, True, and None for the bold variable?"
   ]
  },
  {
   "cell_type": "markdown",
   "id": "63bfc843-33ab-49c6-8d25-cc0af9f66f9d",
   "metadata": {},
   "source": [
    "True: When the bold variable is set to True, it means that the text is formatted to appear in bold. This means that the characters of the text will be displayed with a bold font weight.\n",
    "\n",
    "False: When the bold variable is set to False, it means that the text is not formatted to appear in bold. The characters will be displayed with the default font weight.\n",
    "\n",
    "None: The None value indicates that the bold formatting property is neither explicitly set to True nor False. In this case, the behavior depends on the context:\n",
    "\n",
    "If you query the bold attribute of the Font object, it will return None when the bold formatting is not explicitly set for the text. This can be useful if you want to check whether the text has been explicitly formatted as bold or not."
   ]
  },
  {
   "cell_type": "markdown",
   "id": "c5e53846-e73b-43f8-bc2c-ff11ed93ef64",
   "metadata": {},
   "source": [
    "10. How do you create a Document object for a new Word document?"
   ]
  },
  {
   "cell_type": "markdown",
   "id": "6c9f78ae-dec5-4884-94ac-a4d332ae086c",
   "metadata": {},
   "source": [
    "Ans:\n",
    "To create a Document object for a new Word document using the python-docx library, you simply need to call the Document constructor without any arguments. This will create an empty Document object representing a new, blank Word document."
   ]
  },
  {
   "cell_type": "markdown",
   "id": "e175f576-8601-43cf-b2b2-a48a70c3a097",
   "metadata": {},
   "source": [
    "11. How do you add a paragraph with the text 'Hello, there!' to a Document object stored in a\n",
    "variable named doc?"
   ]
  },
  {
   "cell_type": "code",
   "execution_count": null,
   "id": "27b93ad9-1c5a-490a-bf80-9a7209918882",
   "metadata": {},
   "outputs": [],
   "source": [
    "Ans:\n",
    "from docx import Document\n",
    "\n",
    "# Assuming you have a Document object named 'doc'\n",
    "# If you are creating a new document, you can do something like this:\n",
    "# doc = Document()\n",
    "\n",
    "# Add a paragraph with the text 'Hello, there!'\n",
    "paragraph_text = 'Hello, there!'\n",
    "doc.add_paragraph(paragraph_text)\n"
   ]
  },
  {
   "cell_type": "markdown",
   "id": "32de7375-cf22-4e38-9326-00d731e8c532",
   "metadata": {},
   "source": [
    "In this example, we use the add_paragraph() method of the Document object doc to add a new paragraph with the text 'Hello, there!' to the document. If the doc object represents an existing Word document, this new paragraph will be added to the end of the document. If the doc object is created as an empty Document object, it will now contain the added paragraph."
   ]
  },
  {
   "cell_type": "markdown",
   "id": "e36d1aa5-e95b-4011-b81f-d5660847476b",
   "metadata": {},
   "source": [
    "12. What integers represent the levels of headings available in Word documents?"
   ]
  }
 ],
 "metadata": {
  "kernelspec": {
   "display_name": "Python 3 (ipykernel)",
   "language": "python",
   "name": "python3"
  },
  "language_info": {
   "codemirror_mode": {
    "name": "ipython",
    "version": 3
   },
   "file_extension": ".py",
   "mimetype": "text/x-python",
   "name": "python",
   "nbconvert_exporter": "python",
   "pygments_lexer": "ipython3",
   "version": "3.10.8"
  }
 },
 "nbformat": 4,
 "nbformat_minor": 5
}
